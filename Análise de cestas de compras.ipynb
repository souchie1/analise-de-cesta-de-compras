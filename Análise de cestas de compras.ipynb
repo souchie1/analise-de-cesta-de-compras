{
 "cells": [
  {
   "cell_type": "code",
   "execution_count": null,
   "id": "8baf504b",
   "metadata": {},
   "outputs": [],
   "source": [
    "import matplotlib.pyplot as plt\n",
    "import plotly.express as px\n",
    "import plotly.io as pio\n",
    "import plotly.graph_objects as go\n",
    "pio.templates.default = \"plotly_white\"\n",
    "import seaborn as sns\n",
    "import numpy as np\n",
    "import pandas as pd\n",
    "from statsmodels.tsa.holtwinters import SimpleExpSmoothing"
   ]
  },
  {
   "cell_type": "code",
   "execution_count": null,
   "id": "c6918718",
   "metadata": {},
   "outputs": [],
   "source": [
    "df = pd.read_csv('market_basket_dataset.csv')\n",
    "df.head()\n",
    "\n"
   ]
  },
  {
   "cell_type": "code",
   "execution_count": null,
   "id": "099c526c",
   "metadata": {},
   "outputs": [],
   "source": [
    "# Traduzindo e renomeando as colunas\n",
    "df = df.rename(columns={\n",
    "    'BillNo': 'Número_Fatura',\n",
    "    'Itemname': 'Nome_Item',\n",
    "    'Quantity': 'Quantidade',\n",
    "    'Price': 'Preço',\n",
    "    'CustomerID': 'ID_Cliente'\n",
    "})\n",
    "\n",
    "\n",
    "df.tail()"
   ]
  },
  {
   "cell_type": "code",
   "execution_count": null,
   "id": "f2cabcfb",
   "metadata": {},
   "outputs": [],
   "source": [
    "df.shape"
   ]
  },
  {
   "cell_type": "code",
   "execution_count": null,
   "id": "4ffc27f2",
   "metadata": {},
   "outputs": [],
   "source": [
    "df.isnull().sum()"
   ]
  },
  {
   "cell_type": "code",
   "execution_count": null,
   "id": "8e3df388",
   "metadata": {},
   "outputs": [],
   "source": [
    "df['Nome_Item'].unique()"
   ]
  },
  {
   "cell_type": "code",
   "execution_count": null,
   "id": "ac122618",
   "metadata": {},
   "outputs": [],
   "source": [
    "df.info()"
   ]
  },
  {
   "cell_type": "code",
   "execution_count": null,
   "id": "3a2e1f7a",
   "metadata": {},
   "outputs": [],
   "source": [
    "df.describe()"
   ]
  },
  {
   "cell_type": "code",
   "execution_count": null,
   "id": "45c7853c",
   "metadata": {},
   "outputs": [],
   "source": [
    "# Calculando o total de vendas de cada item\n",
    "df['Total_Vendas'] = df['Quantidade'] * df['Preço']\n",
    "\n",
    "# Agrupando pelo nome do item e calculando o total de vendas de cada item\n",
    "total_vendas_por_item = df.groupby('Nome_Item')['Total_Vendas'].sum()\n",
    "\n",
    "total_vendas_por_item"
   ]
  },
  {
   "cell_type": "code",
   "execution_count": null,
   "id": "4cc628c7",
   "metadata": {},
   "outputs": [],
   "source": [
    "# Ordenando os resultados para encontrar os produtos menos vendidos\n",
    "produtos_menos_vendidos = total_vendas_por_item.sort_values()\n",
    "\n",
    "print(\"Produtos menos vendidos:\")\n",
    "print(produtos_menos_vendidos)"
   ]
  },
  {
   "cell_type": "code",
   "execution_count": null,
   "id": "b9268306",
   "metadata": {},
   "outputs": [],
   "source": [
    "# Calculando o valor total das compras de cada transação\n",
    "df['Total'] = df['Quantidade'] * df['Preço']\n",
    "\n",
    "# Calculando o valor total das compras de cada cliente\n",
    "valor_total_por_cliente = df.groupby('ID_Cliente')['Total'].sum()\n",
    "\n",
    "valor_total_por_cliente"
   ]
  },
  {
   "cell_type": "code",
   "execution_count": null,
   "id": "2075bb26",
   "metadata": {},
   "outputs": [],
   "source": [
    "df.set_index('Número_Fatura', inplace=True)  # Definindo 'Número_Fatura' como o índice\n",
    "\n",
    "# Calculando o valor total gasto por cada cliente (agora índice)\n",
    "df['Total'] = df['Quantidade'] * df['Preço']\n",
    "valor_total_gasto_por_cliente = df.groupby(df.index)['Total'].sum()\n",
    "\n",
    "# Definindo segmentos com base no valor total gasto\n",
    "def definir_segmento(valor):\n",
    "    if valor > 100:\n",
    "        return 'Alto'\n",
    "    elif valor > 50:\n",
    "        return 'Médio'\n",
    "    else:\n",
    "        return 'Baixo'\n",
    "\n",
    "# Aplicando a função para criar uma nova coluna de segmento\n",
    "df['Segmento'] = valor_total_gasto_por_cliente.apply(definir_segmento)\n",
    "\n",
    "# Analisando o comportamento de compra de diferentes segmentos de clientes\n",
    "comportamento_por_segmento = df.groupby('Segmento').agg({\n",
    "    'Quantidade': 'sum',\n",
    "    'Preço': 'mean',\n",
    "    'Total': 'sum'\n",
    "})\n",
    "\n",
    "print(comportamento_por_segmento)\n"
   ]
  },
  {
   "cell_type": "code",
   "execution_count": null,
   "id": "93f9f1bc",
   "metadata": {},
   "outputs": [],
   "source": [
    "# Contando o número de transações de cada cliente\n",
    "frequencia_clientes = df.index.value_counts()\n",
    "\n",
    "# Ordenando os resultados para encontrar os clientes mais frequentes\n",
    "clientes_mais_frequentes = frequencia_clientes.sort_values(ascending=False)\n",
    "\n",
    "print(\"Clientes mais frequentes:\")\n",
    "print(clientes_mais_frequentes)\n"
   ]
  },
  {
   "cell_type": "code",
   "execution_count": null,
   "id": "2a9c74cc",
   "metadata": {},
   "outputs": [],
   "source": [
    "# Calculando o valor total gasto por cada cliente\n",
    "valor_total_gasto_por_cliente = df.groupby(df.index)['Total'].sum()\n",
    "\n",
    "# Ordenando os resultados para encontrar os clientes que gastam mais\n",
    "clientes_que_gastam_mais = valor_total_gasto_por_cliente.sort_values(ascending=False)\n",
    "\n",
    "print(\"Clientes que gastam mais:\")\n",
    "print(clientes_que_gastam_mais)\n"
   ]
  },
  {
   "cell_type": "code",
   "execution_count": null,
   "id": "fd630268",
   "metadata": {},
   "outputs": [],
   "source": [
    "# Calculando o preço médio, mínimo e máximo dos itens vendidos\n",
    "preco_medio = df['Preço'].mean()\n",
    "preco_minimo = df['Preço'].min()\n",
    "preco_maximo = df['Preço'].max()\n",
    "\n",
    "print(\"Preço médio dos itens vendidos:\", preco_medio)\n",
    "print(\"Preço mínimo dos itens vendidos:\", preco_minimo)\n",
    "print(\"Preço máximo dos itens vendidos:\", preco_maximo)\n"
   ]
  },
  {
   "cell_type": "code",
   "execution_count": null,
   "id": "f97732da",
   "metadata": {},
   "outputs": [],
   "source": [
    "# Calculando o valor total de vendas em cada fatura\n",
    "df['Valor_Total_Fatura'] = df['Quantidade'] * df['Preço']\n",
    "\n",
    "# Agrupando por fatura e calculando o valor total de vendas em cada fatura\n",
    "valor_total_por_fatura = df.groupby('Número_Fatura')['Valor_Total_Fatura'].sum()\n",
    "\n",
    "print(valor_total_por_fatura)\n"
   ]
  },
  {
   "cell_type": "code",
   "execution_count": null,
   "id": "353fb6f4",
   "metadata": {},
   "outputs": [],
   "source": [
    "import matplotlib.pyplot as plt\n",
    "\n",
    "# Calculando o número de itens por fatura\n",
    "itens_por_fatura = df.groupby('Número_Fatura')['Quantidade'].sum()\n",
    "\n",
    "# Visualizando a distribuição do número de itens por fatura\n",
    "plt.figure(figsize=(10, 6))\n",
    "plt.hist(itens_por_fatura, bins=20, color='skyblue', edgecolor='black')\n",
    "plt.title('Distribuição do Número de Itens por Fatura')\n",
    "plt.xlabel('Número de Itens')\n",
    "plt.ylabel('Frequência')\n",
    "plt.grid(True)\n",
    "plt.show()\n"
   ]
  },
  {
   "cell_type": "code",
   "execution_count": null,
   "id": "d739fb64",
   "metadata": {},
   "outputs": [],
   "source": [
    "# Agrupando as transações por cliente e produto para contar quantas vezes cada produto foi comprado por cada cliente\n",
    "preferencias_clientes = df.groupby(['ID_Cliente', 'Nome_Item']).size().reset_index(name='Quantidade_Comprada')\n",
    "\n",
    "# Encontrando o produto mais comprado por cada cliente\n",
    "preferencias_clientes = preferencias_clientes.sort_values(by=['ID_Cliente', 'Quantidade_Comprada'], ascending=[True, False])\n",
    "preferencias_clientes = preferencias_clientes.groupby('ID_Cliente').first()\n",
    "\n",
    "print(preferencias_clientes)\n"
   ]
  },
  {
   "cell_type": "code",
   "execution_count": null,
   "id": "95801e80",
   "metadata": {},
   "outputs": [],
   "source": [
    "# Agrupar os dados por nome do item e somar as quantidades vendidas\n",
    "itens_populares = df.groupby('Nome_Item')['Quantidade'].sum()\n",
    "\n",
    "# Ordenar os itens por quantidade vendida em ordem decrescente\n",
    "itens_populares = itens_populares.sort_values(ascending=False)\n",
    "\n",
    "# Selecionar os 10 itens mais populares\n",
    "top_10_itens_populares = itens_populares.head(10)\n",
    "\n",
    "print(\"Os 10 itens mais populares vendidos pela loja são:\")\n",
    "print(top_10_itens_populares)\n"
   ]
  },
  {
   "cell_type": "code",
   "execution_count": null,
   "id": "d2b05503",
   "metadata": {},
   "outputs": [],
   "source": [
    "# Agrupa os dados por 'ID_Cliente' e calcula a média da 'Quantidade' e a soma do 'Preço' para cada cliente\n",
    "comportamento_cliente = df.groupby('ID_Cliente').agg({'Quantidade': 'mean', 'Preço': 'sum'}).reset_index()\n",
    "\n",
    "# Cria um DataFrame para exibir os valores\n",
    "dados_tabela = pd.DataFrame({\n",
    "    'ID_Cliente': comportamento_cliente['ID_Cliente'],\n",
    "    'Quantidade Média': comportamento_cliente['Quantidade'],\n",
    "    'Gasto Total': comportamento_cliente['Preço']\n",
    "})\n",
    "\n",
    "# Cria um subplot com um gráfico de dispersão e uma tabela\n",
    "fig = go.Figure()\n",
    "\n",
    "# Adiciona um gráfico de dispersão\n",
    "fig.add_trace(go.Scatter(x=comportamento_cliente['Quantidade'], y=comportamento_cliente['Preço'],\n",
    "                         mode='markers', text=comportamento_cliente['ID_Cliente'],\n",
    "                         marker=dict(size=10, color='coral')))\n",
    "\n",
    "# Adiciona uma tabela\n",
    "fig.add_trace(go.Table(\n",
    "    header=dict(values=['ID_Cliente', 'Quantidade Média', 'Gasto Total']),\n",
    "    cells=dict(values=[dados_tabela['ID_Cliente'], dados_tabela['Quantidade Média'], dados_tabela['Gasto Total']]),\n",
    "))\n",
    "\n",
    "# Atualiza o layout\n",
    "fig.update_layout(title='Comportamento do Cliente',\n",
    "                  xaxis_title='Quantidade Média', yaxis_title='Gasto Total')\n",
    "\n",
    "# Mostra o gráfico\n",
    "fig.show()\n"
   ]
  },
  {
   "cell_type": "code",
   "execution_count": null,
   "id": "d4fff454",
   "metadata": {},
   "outputs": [],
   "source": [
    "! pip install mlxtend"
   ]
  },
  {
   "cell_type": "code",
   "execution_count": null,
   "id": "186a30f6",
   "metadata": {},
   "outputs": [],
   "source": [
    "from mlxtend.frequent_patterns import apriori\n",
    "from mlxtend.frequent_patterns import association_rules\n",
    "\n",
    "# Transforme os dados para o formato de cesta (basket format), onde cada linha representa uma transação\n",
    "basket_data = df.groupby(['Número_Fatura', 'Nome_Item'])['Quantidade'].sum().unstack().reset_index().fillna(0).set_index('Número_Fatura')\n",
    "\n",
    "# Converte a contagem em 0 ou 1 para cada item\n",
    "basket_encoded = basket_data.applymap(lambda x: 1 if x > 0 else 0)\n",
    "\n",
    "# Aplica o algoritmo Apriori para encontrar conjuntos frequentes de itens\n",
    "frequent_itemsets = apriori(basket_encoded, min_support=0.05, use_colnames=True)\n",
    "\n",
    "# Gera as regras de associação a partir dos conjuntos frequentes encontrados\n",
    "association_rules = association_rules(frequent_itemsets, metric=\"lift\", min_threshold=1)\n",
    "\n",
    "# Exibe as regras de associação encontradas\n",
    "association_rules\n"
   ]
  },
  {
   "cell_type": "code",
   "execution_count": null,
   "id": "741ecacd",
   "metadata": {},
   "outputs": [],
   "source": [
    "from mlxtend.frequent_patterns import apriori\n",
    "from mlxtend.frequent_patterns import association_rules\n",
    "\n",
    "# Transforma os dados no formato de cesta, onde cada linha representa uma transação\n",
    "dados_cesta = df.groupby(['Número_Fatura', 'Nome_Item'])['Quantidade'].sum().unstack().reset_index().fillna(0).set_index('Número_Fatura')\n",
    "\n",
    "# Converte a contagem em 0 ou 1 para cada item\n",
    "cesta_codificada = dados_cesta.applymap(lambda x: 1 if x > 0 else 0)\n",
    "\n",
    "# Aplica o algoritmo Apriori para encontrar conjuntos frequentes de itens\n",
    "conjuntos_frequentes = apriori(cesta_codificada, min_support=0.05, use_colnames=True)\n",
    "\n",
    "# Gera regras de associação a partir dos conjuntos frequentes encontrados\n",
    "regras_associacao = association_rules(conjuntos_frequentes, metric=\"lift\", min_threshold=1)\n",
    "\n",
    "# Exibe as regras de associação encontradas\n",
    "print(regras_associacao)\n"
   ]
  },
  {
   "cell_type": "code",
   "execution_count": null,
   "id": "871e3d41",
   "metadata": {},
   "outputs": [],
   "source": []
  },
  {
   "cell_type": "code",
   "execution_count": null,
   "id": "d86c4dfa",
   "metadata": {},
   "outputs": [],
   "source": [
    "from mlxtend.frequent_patterns import apriori\n",
    "from mlxtend.frequent_patterns import association_rules\n",
    "\n",
    "# Group items by BillNo and create a list of items for each bill\n",
    "basket = df.groupby('Número_Fatura')['Nome_Item'].apply(list).reset_index()\n",
    "\n",
    "# Encode items as binary variables using one-hot encoding\n",
    "basket_encoded = basket['Nome_Item'].str.join('|').str.get_dummies('|')\n",
    "\n",
    "# Find frequent itemsets using Apriori algorithm with lower support\n",
    "frequent_itemsets = apriori(basket_encoded, min_support=0.01, use_colnames=True)\n",
    "\n",
    "# Generate association rules with lower lift threshold\n",
    "rules = association_rules(frequent_itemsets, metric='lift', min_threshold=0.5)\n",
    "\n",
    "# Display association rules\n",
    "print(rules[['antecedents', 'consequents', 'support', 'confidence', 'lift']].head(10))\n"
   ]
  },
  {
   "cell_type": "code",
   "execution_count": null,
   "id": "67417846",
   "metadata": {},
   "outputs": [],
   "source": [
    "'''Vamos interpretar a saída passo a passo:\n",
    "\n",
    "Antecedentes : São os itens considerados como ponto de partida ou “se” parte da regra de associação. Por exemplo, Pão, Manteiga, Cereais, Queijo e Frango são os antecedentes nesta análise.\n",
    "Consequentes : São os itens que tendem a ser adquiridos junto com os antecedentes ou a parte “então” da regra de associação.\n",
    "Suporte : O suporte mede a frequência com que uma determinada combinação de itens (antecedentes e consequentes) aparece no conjunto de dados. É essencialmente a proporção de transações em que os itens são comprados em conjunto. Por exemplo, a primeira regra indica que Pão e Maçãs são comprados juntos em aproximadamente 4,58% de todas as transações.\n",
    "Confiança : A confiança quantifica a probabilidade do item consequente ser comprado quando o item antecedente já está na cesta. Em outras palavras, mostra a probabilidade de comprar o item consequente quando o item antecedente for comprado. Por exemplo, a primeira regra diz-nos que há 30,43% de probabilidade de comprar Maçãs quando o Pão já estiver no cesto.\n",
    "Aumento : O aumento mede o grau de associação entre os itens antecedentes e consequentes, ao mesmo tempo que considera a probabilidade de compra básica do item consequente. Um valor de aumento superior a 1 indica uma associação positiva, o que significa que é mais provável que os itens sejam comprados juntos do que de forma independente. Um valor menor que 1 indica uma associação negativa. Por exemplo, a primeira regra tem um aumento de aproximadamente 1,86, sugerindo uma associação positiva entre Pão e Maçãs.'''"
   ]
  },
  {
   "cell_type": "code",
   "execution_count": null,
   "id": "63cec80d",
   "metadata": {},
   "outputs": [],
   "source": [
    "from sklearn.neighbors import NearestNeighbors\n",
    "\n",
    "# Criar matriz de clientes e produtos\n",
    "clientes_produtos = df.pivot_table(index='ID_Cliente', columns='Nome_Item', values='Quantidade', fill_value=0)\n",
    "\n",
    "# Treinar modelo KNN\n",
    "knn_model = NearestNeighbors(metric='cosine', algorithm='brute')\n",
    "knn_model.fit(clientes_produtos)\n",
    "\n",
    "# Encontrar os k vizinhos mais próximos para cada cliente\n",
    "k = 5\n",
    "distances, indices = knn_model.kneighbors(clientes_produtos, n_neighbors=k+1)\n",
    "\n",
    "# Para cada cliente, recomendar produtos com base nos produtos comprados por seus vizinhos mais próximos\n",
    "for i, cliente in enumerate(clientes_produtos.index):\n",
    "    print(f\"Cliente: {cliente}\")\n",
    "    print(\"Produtos recomendados:\")\n",
    "    \n",
    "    # Conjunto para armazenar os produtos recomendados sem repetições\n",
    "    produtos_recomendados_set = set()\n",
    "    \n",
    "    for j in indices[i][1:]:  # Excluindo o próprio cliente\n",
    "        cliente_vizinho = clientes_produtos.index[j]\n",
    "        produtos_recomendados_vizinho = df[df['ID_Cliente'] == cliente_vizinho]['Nome_Item'].unique()\n",
    "        \n",
    "        # Adicionar os produtos recomendados pelo vizinho ao conjunto\n",
    "        for produto in produtos_recomendados_vizinho:\n",
    "            produtos_recomendados_set.add(produto)\n",
    "    \n",
    "    # Exibir os produtos recomendados\n",
    "    for produto in produtos_recomendados_set:\n",
    "        print(f\"- {produto}\")\n",
    "    \n",
    "    print()\n"
   ]
  },
  {
   "cell_type": "code",
   "execution_count": null,
   "id": "5a68fb77",
   "metadata": {},
   "outputs": [],
   "source": [
    "from surprise import Dataset, Reader, KNNBasic\n",
    "from surprise.model_selection import train_test_split\n",
    "\n",
    "\n",
    "# Configurar o dataframe para ser usado com a biblioteca Surprise\n",
    "reader = Reader(rating_scale=(0, 1))\n",
    "data = Dataset.load_from_df(df[['ID_Cliente', 'Nome_Item', 'Quantidade']], reader)\n",
    "\n",
    "# Dividir os dados em conjuntos de treinamento e teste\n",
    "trainset, testset = train_test_split(data, test_size=0.2)\n",
    "\n",
    "# Treinar o modelo de filtragem colaborativa (KNN)\n",
    "model = KNNBasic(sim_options={'user_based': False})\n",
    "model.fit(trainset)\n",
    "\n",
    "# Para cada cliente, obter as recomendações de produtos\n",
    "for cliente_id in df['ID_Cliente'].unique():\n",
    "    produtos_recomendados = []\n",
    "    for produto_id in df['Nome_Item'].unique():\n",
    "        # Prever a classificação do produto para o cliente\n",
    "        pred = model.predict(cliente_id, produto_id)\n",
    "        # Se a classificação prevista for alta o suficiente, adicionar o produto às recomendações\n",
    "        if pred.est > 0.5:\n",
    "            produtos_recomendados.append(produto_id)\n",
    "    # Exibir as recomendações para o cliente\n",
    "    print(f\"Cliente {cliente_id}: Recomendações - {produtos_recomendados}\")\n"
   ]
  },
  {
   "cell_type": "code",
   "execution_count": null,
   "id": "2108f45e",
   "metadata": {},
   "outputs": [],
   "source": []
  }
 ],
 "metadata": {
  "kernelspec": {
   "display_name": "Python 3 (ipykernel)",
   "language": "python",
   "name": "python3"
  },
  "language_info": {
   "codemirror_mode": {
    "name": "ipython",
    "version": 3
   },
   "file_extension": ".py",
   "mimetype": "text/x-python",
   "name": "python",
   "nbconvert_exporter": "python",
   "pygments_lexer": "ipython3",
   "version": "3.11.5"
  }
 },
 "nbformat": 4,
 "nbformat_minor": 5
}
